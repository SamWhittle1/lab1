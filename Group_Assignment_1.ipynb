{
  "nbformat": 4,
  "nbformat_minor": 0,
  "metadata": {
    "colab": {
      "name": "Group Assignment 1.ipynb",
      "provenance": [],
      "include_colab_link": true
    },
    "kernelspec": {
      "name": "python3",
      "display_name": "Python 3"
    }
  },
  "cells": [
    {
      "cell_type": "markdown",
      "metadata": {
        "id": "view-in-github",
        "colab_type": "text"
      },
      "source": [
        "<a href=\"https://colab.research.google.com/github/SamWhittle1/lab1/blob/master/Group_Assignment_1.ipynb\" target=\"_parent\"><img src=\"https://colab.research.google.com/assets/colab-badge.svg\" alt=\"Open In Colab\"/></a>"
      ]
    },
    {
      "cell_type": "markdown",
      "metadata": {
        "id": "UblhAIGuGF27",
        "colab_type": "text"
      },
      "source": [
        "# Library"
      ]
    },
    {
      "cell_type": "markdown",
      "metadata": {
        "id": "RlR0_Ol4GW3b",
        "colab_type": "text"
      },
      "source": [
        "### What is your idea?"
      ]
    },
    {
      "cell_type": "markdown",
      "metadata": {
        "id": "HU68Zv5MGY97",
        "colab_type": "text"
      },
      "source": [
        "Our idea is to make a database that consolidates data that can be collected from libraries. We think it could be interesting to see what trends can appear with that data."
      ]
    },
    {
      "cell_type": "markdown",
      "metadata": {
        "id": "45Q0PBrIGiIg",
        "colab_type": "text"
      },
      "source": [
        "### What makes it unique?"
      ]
    },
    {
      "cell_type": "markdown",
      "metadata": {
        "id": "8WOfTAuqGjoc",
        "colab_type": "text"
      },
      "source": [
        "Our database is unique because it takes into account both age and program participation when looking into a member’s account. We think adding these data points would be useful because it could help determine which groups are least active and which programs are least successful. Then the organization in charge of the library can do something to change that trend."
      ]
    },
    {
      "cell_type": "markdown",
      "metadata": {
        "id": "dVrktWdXGl19",
        "colab_type": "text"
      },
      "source": [
        "### Is this a brand-new product or business, or are you borrowing from another business?"
      ]
    },
    {
      "cell_type": "markdown",
      "metadata": {
        "id": "MmGY0leUGnaN",
        "colab_type": "text"
      },
      "source": [
        "Our database is based on a normal library system. We just added a few specifications to our database that could help narrow down specific trends in data."
      ]
    },
    {
      "cell_type": "markdown",
      "metadata": {
        "id": "k3oJzVDPGnws",
        "colab_type": "text"
      },
      "source": [
        "### Describe a typical business interaction or a day at your business."
      ]
    },
    {
      "cell_type": "markdown",
      "metadata": {
        "id": "GeEKl-lUG1x5",
        "colab_type": "text"
      },
      "source": [
        "At our library, a typical day to day interaction roughly follows the following: Staff come in and conduct programs, such as Media Lab, a book club, or a kids summer reading program. Many sections in the library have said programs. In these sections are many books, each with their own genre, serial #, and title. Many of the programs engage various people. Said people also checkout books, which can change on a day to day basis."
      ]
    },
    {
      "cell_type": "markdown",
      "metadata": {
        "id": "iUFoC5BuGpID",
        "colab_type": "text"
      },
      "source": [
        "### List your 5 entities/tables and for each, provide details about what data will be stored in the entities/tables."
      ]
    },
    {
      "cell_type": "markdown",
      "metadata": {
        "id": "AiZXrfSMGqZm",
        "colab_type": "text"
      },
      "source": [
        "1. Sections\n",
        "\n",
        "For this entity, we found that the Lounge, the Adult'section, and the Children'section were appropiate attributes\n",
        "\n",
        "2. Books\n",
        "\n",
        "For this entity, we found that the Genre, the Serial#, and the Title of the book were appropiate attributes\n",
        "\n",
        "3. Staff\n",
        "\n",
        "For this entity, we found that Librarians, LoungeEmployees, and Name were appropiate attributes\n",
        "\n",
        "4. People\n",
        "\n",
        "For this entity, we found that FirstName, Card#, and Age were appropiate attributes\n",
        "\n",
        "5. Programs\n",
        "\n",
        "For this entity, we found that MediaLab, BookClub, and KidsSummerReading were appropiate attributes\n",
        "\n",
        "6. Checkout\n",
        "\n",
        "For this entity, we found that Card#, Serial#, and Date were appropiate attributes"
      ]
    },
    {
      "cell_type": "markdown",
      "metadata": {
        "id": "h2mJWTewHLSn",
        "colab_type": "text"
      },
      "source": [
        "Draw IO Entity Relationship Diagram \n",
        "\n",
        "![ER Diagram](https://raw.githubusercontent.com/SamWhittle1/lab1/master/images/Group%201%20Assignment.png)"
      ]
    },
    {
      "cell_type": "markdown",
      "metadata": {
        "id": "WFQXwieoHiCe",
        "colab_type": "text"
      },
      "source": [
        "### Provide a goal for your project "
      ]
    },
    {
      "cell_type": "markdown",
      "metadata": {
        "id": "cKmoiVHrHnHF",
        "colab_type": "text"
      },
      "source": [
        "Our goal is to make a database that allows us to see how many books a person checked out, their age, and if they’re involved in any extra programs. We can also use this data to see which types of books are most popular at the moment with different age groups, the number of books each age group checks out, and if the programs encourage any trends."
      ]
    }
  ]
}