{
  "nbformat": 4,
  "nbformat_minor": 0,
  "metadata": {
    "colab": {
      "name": "Lab1.ipynb",
      "provenance": [],
      "authorship_tag": "ABX9TyPPdUZgOCL1Gp80Z/jn5+os",
      "include_colab_link": true
    },
    "kernelspec": {
      "name": "python3",
      "display_name": "Python 3"
    }
  },
  "cells": [
    {
      "cell_type": "markdown",
      "metadata": {
        "id": "view-in-github",
        "colab_type": "text"
      },
      "source": [
        "<a href=\"https://colab.research.google.com/github/SamWhittle1/lab1/blob/master/Lab1.ipynb\" target=\"_parent\"><img src=\"https://colab.research.google.com/assets/colab-badge.svg\" alt=\"Open In Colab\"/></a>"
      ]
    },
    {
      "cell_type": "markdown",
      "metadata": {
        "id": "Ooz4qGTNjAUu",
        "colab_type": "text"
      },
      "source": [
        "# Do you like using Jupyter Notebooks?"
      ]
    },
    {
      "cell_type": "markdown",
      "metadata": {
        "id": "9J0I0bVzjXJO",
        "colab_type": "text"
      },
      "source": [
        "So far I do. I am finding it much easier and intuitive to use than coding Java within some random IDE"
      ]
    },
    {
      "cell_type": "markdown",
      "metadata": {
        "id": "9jSWNQI1jn1W",
        "colab_type": "text"
      },
      "source": [
        "# What do you want to learn more about in Jupyter Notebooks?"
      ]
    },
    {
      "cell_type": "markdown",
      "metadata": {
        "id": "CiK3y2lKjsGO",
        "colab_type": "text"
      },
      "source": [
        "I want to learn more about what the main pros and cons of using Jupyter Notebook are. Like how complex can Jupyter Notebooks go? Is this certain piece of code much easier to write and execute than doing it in another other language?"
      ]
    },
    {
      "cell_type": "markdown",
      "metadata": {
        "id": "rFcJ7BzVnpYj",
        "colab_type": "text"
      },
      "source": [
        "![my dog cheyenne](https://raw.githubusercontent.com/SamWhittle1/lab1/master/images/cheyenne.jpg)"
      ]
    }
  ]
}